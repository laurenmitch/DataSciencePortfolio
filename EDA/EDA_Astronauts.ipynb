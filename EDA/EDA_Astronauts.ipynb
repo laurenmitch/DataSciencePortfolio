{
 "cells": [
  {
   "cell_type": "markdown",
   "id": "62e4baf0",
   "metadata": {},
   "source": [
    "Here we will be investigating the \"astronauts(Human and Non Humans)\" database from Kaggle user Ram Jas Maurya of web-scraped data from the website supercluster."
   ]
  },
  {
   "cell_type": "markdown",
   "id": "1da8d3f1",
   "metadata": {},
   "source": [
    "## Setup"
   ]
  },
  {
   "cell_type": "code",
   "execution_count": 1,
   "id": "404412f8",
   "metadata": {},
   "outputs": [],
   "source": [
    "#Import appropriate libraries for EDA\n",
    "import numpy as np\n",
    "import pandas as pd\n",
    "import matplotlib.pyplot as plt\n",
    "import seaborn as sns\n",
    "import datetime as dt\n",
    "\n",
    "import warnings\n",
    "warnings.filterwarnings('ignore')"
   ]
  },
  {
   "cell_type": "code",
   "execution_count": 2,
   "id": "63504ee7",
   "metadata": {},
   "outputs": [],
   "source": [
    "#import the dataset\n",
    "df = pd.read_csv('astronauts(Human and Non Humans).csv')"
   ]
  },
  {
   "cell_type": "markdown",
   "id": "5d83e3fe",
   "metadata": {},
   "source": [
    "## Understand the Data and Summary Stats"
   ]
  },
  {
   "cell_type": "code",
   "execution_count": 3,
   "id": "420b4913",
   "metadata": {},
   "outputs": [
    {
     "data": {
      "text/html": [
       "<div>\n",
       "<style scoped>\n",
       "    .dataframe tbody tr th:only-of-type {\n",
       "        vertical-align: middle;\n",
       "    }\n",
       "\n",
       "    .dataframe tbody tr th {\n",
       "        vertical-align: top;\n",
       "    }\n",
       "\n",
       "    .dataframe thead th {\n",
       "        text-align: right;\n",
       "    }\n",
       "</style>\n",
       "<table border=\"1\" class=\"dataframe\">\n",
       "  <thead>\n",
       "    <tr style=\"text-align: right;\">\n",
       "      <th></th>\n",
       "      <th>0</th>\n",
       "      <th>1</th>\n",
       "      <th>2</th>\n",
       "      <th>3</th>\n",
       "      <th>4</th>\n",
       "    </tr>\n",
       "  </thead>\n",
       "  <tbody>\n",
       "    <tr>\n",
       "      <th>s.no/code given</th>\n",
       "      <td>612</td>\n",
       "      <td>611</td>\n",
       "      <td>610</td>\n",
       "      <td>609</td>\n",
       "      <td>608</td>\n",
       "    </tr>\n",
       "    <tr>\n",
       "      <th>Astronaut name</th>\n",
       "      <td>Cameron Bess</td>\n",
       "      <td>Lane Bess</td>\n",
       "      <td>Evan Dick</td>\n",
       "      <td>Dylan Taylor</td>\n",
       "      <td>Michael Strahan</td>\n",
       "    </tr>\n",
       "    <tr>\n",
       "      <th>country</th>\n",
       "      <td>United States of America</td>\n",
       "      <td>United States of America</td>\n",
       "      <td>United States of America</td>\n",
       "      <td>United States of America</td>\n",
       "      <td>United States of America</td>\n",
       "    </tr>\n",
       "    <tr>\n",
       "      <th>company space agency</th>\n",
       "      <td>Blue Origin</td>\n",
       "      <td>Blue Origin</td>\n",
       "      <td>Blue Origin</td>\n",
       "      <td>Blue Origin</td>\n",
       "      <td>Blue Origin</td>\n",
       "    </tr>\n",
       "    <tr>\n",
       "      <th>missions</th>\n",
       "      <td>1</td>\n",
       "      <td>1</td>\n",
       "      <td>1</td>\n",
       "      <td>1</td>\n",
       "      <td>1</td>\n",
       "    </tr>\n",
       "    <tr>\n",
       "      <th>days in space</th>\n",
       "      <td>&lt;.1</td>\n",
       "      <td>&lt;.1</td>\n",
       "      <td>&lt;.1</td>\n",
       "      <td>&lt;.1</td>\n",
       "      <td>&lt;.1</td>\n",
       "    </tr>\n",
       "    <tr>\n",
       "      <th>spacewalks</th>\n",
       "      <td>-</td>\n",
       "      <td>-</td>\n",
       "      <td>-</td>\n",
       "      <td>-</td>\n",
       "      <td>-</td>\n",
       "    </tr>\n",
       "    <tr>\n",
       "      <th>days spacewalking</th>\n",
       "      <td>-</td>\n",
       "      <td>-</td>\n",
       "      <td>-</td>\n",
       "      <td>-</td>\n",
       "      <td>-</td>\n",
       "    </tr>\n",
       "    <tr>\n",
       "      <th>acheivement 1</th>\n",
       "      <td>Crossed Kármán Line</td>\n",
       "      <td>Crossed Kármán Line</td>\n",
       "      <td>Crossed Kármán Line</td>\n",
       "      <td>Crossed Kármán Line</td>\n",
       "      <td>Crossed Kármán Line</td>\n",
       "    </tr>\n",
       "    <tr>\n",
       "      <th>acheivement 2</th>\n",
       "      <td>NaN</td>\n",
       "      <td>NaN</td>\n",
       "      <td>NaN</td>\n",
       "      <td>NaN</td>\n",
       "      <td>NaN</td>\n",
       "    </tr>\n",
       "    <tr>\n",
       "      <th>acheivement 3</th>\n",
       "      <td>NaN</td>\n",
       "      <td>NaN</td>\n",
       "      <td>NaN</td>\n",
       "      <td>NaN</td>\n",
       "      <td>NaN</td>\n",
       "    </tr>\n",
       "    <tr>\n",
       "      <th>acheivement 4</th>\n",
       "      <td>NaN</td>\n",
       "      <td>NaN</td>\n",
       "      <td>NaN</td>\n",
       "      <td>NaN</td>\n",
       "      <td>NaN</td>\n",
       "    </tr>\n",
       "    <tr>\n",
       "      <th>still in space</th>\n",
       "      <td>NaN</td>\n",
       "      <td>NaN</td>\n",
       "      <td>NaN</td>\n",
       "      <td>NaN</td>\n",
       "      <td>NaN</td>\n",
       "    </tr>\n",
       "  </tbody>\n",
       "</table>\n",
       "</div>"
      ],
      "text/plain": [
       "                                             0                         1  \\\n",
       "s.no/code given                            612                       611   \n",
       "Astronaut name                    Cameron Bess                 Lane Bess   \n",
       "country               United States of America  United States of America   \n",
       "company space agency               Blue Origin               Blue Origin   \n",
       "missions                                     1                         1   \n",
       "days in space                              <.1                       <.1   \n",
       "spacewalks                                   -                         -   \n",
       "days spacewalking                            -                         -   \n",
       "acheivement 1              Crossed Kármán Line       Crossed Kármán Line   \n",
       "acheivement 2                              NaN                       NaN   \n",
       "acheivement 3                              NaN                       NaN   \n",
       "acheivement 4                              NaN                       NaN   \n",
       "still in space                             NaN                       NaN   \n",
       "\n",
       "                                             2                         3  \\\n",
       "s.no/code given                            610                       609   \n",
       "Astronaut name                       Evan Dick              Dylan Taylor   \n",
       "country               United States of America  United States of America   \n",
       "company space agency               Blue Origin               Blue Origin   \n",
       "missions                                     1                         1   \n",
       "days in space                              <.1                       <.1   \n",
       "spacewalks                                   -                         -   \n",
       "days spacewalking                            -                         -   \n",
       "acheivement 1              Crossed Kármán Line       Crossed Kármán Line   \n",
       "acheivement 2                              NaN                       NaN   \n",
       "acheivement 3                              NaN                       NaN   \n",
       "acheivement 4                              NaN                       NaN   \n",
       "still in space                             NaN                       NaN   \n",
       "\n",
       "                                             4  \n",
       "s.no/code given                            608  \n",
       "Astronaut name                 Michael Strahan  \n",
       "country               United States of America  \n",
       "company space agency               Blue Origin  \n",
       "missions                                     1  \n",
       "days in space                              <.1  \n",
       "spacewalks                                   -  \n",
       "days spacewalking                            -  \n",
       "acheivement 1              Crossed Kármán Line  \n",
       "acheivement 2                              NaN  \n",
       "acheivement 3                              NaN  \n",
       "acheivement 4                              NaN  \n",
       "still in space                             NaN  "
      ]
     },
     "execution_count": 3,
     "metadata": {},
     "output_type": "execute_result"
    }
   ],
   "source": [
    "#look at the data\n",
    "df.head().T"
   ]
  },
  {
   "cell_type": "code",
   "execution_count": 4,
   "id": "e9524d8d",
   "metadata": {},
   "outputs": [
    {
     "data": {
      "text/plain": [
       "(952, 13)"
      ]
     },
     "execution_count": 4,
     "metadata": {},
     "output_type": "execute_result"
    }
   ],
   "source": [
    "df.shape"
   ]
  },
  {
   "cell_type": "code",
   "execution_count": 5,
   "id": "860b9f86",
   "metadata": {},
   "outputs": [
    {
     "data": {
      "text/plain": [
       "s.no/code given         object\n",
       "Astronaut name          object\n",
       "country                 object\n",
       "company space agency    object\n",
       "missions                object\n",
       "days in space           object\n",
       "spacewalks              object\n",
       "days spacewalking       object\n",
       "acheivement 1           object\n",
       "acheivement 2           object\n",
       "acheivement 3           object\n",
       "acheivement 4           object\n",
       "still in space          object\n",
       "dtype: object"
      ]
     },
     "execution_count": 5,
     "metadata": {},
     "output_type": "execute_result"
    }
   ],
   "source": [
    "#Here it is interesting to note, all data types are stored as objects. \n",
    "#If we want to do any calculations later we will need to convert these variables\n",
    "df.dtypes"
   ]
  },
  {
   "cell_type": "code",
   "execution_count": 6,
   "id": "8ad4f0bb",
   "metadata": {},
   "outputs": [
    {
     "data": {
      "text/html": [
       "<div>\n",
       "<style scoped>\n",
       "    .dataframe tbody tr th:only-of-type {\n",
       "        vertical-align: middle;\n",
       "    }\n",
       "\n",
       "    .dataframe tbody tr th {\n",
       "        vertical-align: top;\n",
       "    }\n",
       "\n",
       "    .dataframe thead th {\n",
       "        text-align: right;\n",
       "    }\n",
       "</style>\n",
       "<table border=\"1\" class=\"dataframe\">\n",
       "  <thead>\n",
       "    <tr style=\"text-align: right;\">\n",
       "      <th></th>\n",
       "      <th>count</th>\n",
       "      <th>unique</th>\n",
       "      <th>top</th>\n",
       "      <th>freq</th>\n",
       "    </tr>\n",
       "  </thead>\n",
       "  <tbody>\n",
       "    <tr>\n",
       "      <th>s.no/code given</th>\n",
       "      <td>942</td>\n",
       "      <td>942</td>\n",
       "      <td>612</td>\n",
       "      <td>1</td>\n",
       "    </tr>\n",
       "    <tr>\n",
       "      <th>Astronaut name</th>\n",
       "      <td>952</td>\n",
       "      <td>951</td>\n",
       "      <td>Unknown Dog</td>\n",
       "      <td>2</td>\n",
       "    </tr>\n",
       "    <tr>\n",
       "      <th>country</th>\n",
       "      <td>952</td>\n",
       "      <td>42</td>\n",
       "      <td>United States of America</td>\n",
       "      <td>523</td>\n",
       "    </tr>\n",
       "    <tr>\n",
       "      <th>company space agency</th>\n",
       "      <td>629</td>\n",
       "      <td>22</td>\n",
       "      <td>NASA</td>\n",
       "      <td>364</td>\n",
       "    </tr>\n",
       "    <tr>\n",
       "      <th>missions</th>\n",
       "      <td>952</td>\n",
       "      <td>8</td>\n",
       "      <td>1</td>\n",
       "      <td>540</td>\n",
       "    </tr>\n",
       "    <tr>\n",
       "      <th>days in space</th>\n",
       "      <td>621</td>\n",
       "      <td>370</td>\n",
       "      <td>&lt;.1</td>\n",
       "      <td>25</td>\n",
       "    </tr>\n",
       "    <tr>\n",
       "      <th>spacewalks</th>\n",
       "      <td>621</td>\n",
       "      <td>12</td>\n",
       "      <td>-</td>\n",
       "      <td>379</td>\n",
       "    </tr>\n",
       "    <tr>\n",
       "      <th>days spacewalking</th>\n",
       "      <td>621</td>\n",
       "      <td>30</td>\n",
       "      <td>-</td>\n",
       "      <td>379</td>\n",
       "    </tr>\n",
       "    <tr>\n",
       "      <th>acheivement 1</th>\n",
       "      <td>734</td>\n",
       "      <td>133</td>\n",
       "      <td>Crossed Kármán Line</td>\n",
       "      <td>325</td>\n",
       "    </tr>\n",
       "    <tr>\n",
       "      <th>acheivement 2</th>\n",
       "      <td>403</td>\n",
       "      <td>43</td>\n",
       "      <td>Crossed Kármán Line</td>\n",
       "      <td>266</td>\n",
       "    </tr>\n",
       "    <tr>\n",
       "      <th>acheivement 3</th>\n",
       "      <td>215</td>\n",
       "      <td>21</td>\n",
       "      <td>Space Resident</td>\n",
       "      <td>146</td>\n",
       "    </tr>\n",
       "    <tr>\n",
       "      <th>acheivement 4</th>\n",
       "      <td>331</td>\n",
       "      <td>132</td>\n",
       "      <td>Dog</td>\n",
       "      <td>47</td>\n",
       "    </tr>\n",
       "    <tr>\n",
       "      <th>still in space</th>\n",
       "      <td>10</td>\n",
       "      <td>1</td>\n",
       "      <td>yes</td>\n",
       "      <td>10</td>\n",
       "    </tr>\n",
       "  </tbody>\n",
       "</table>\n",
       "</div>"
      ],
      "text/plain": [
       "                     count unique                       top freq\n",
       "s.no/code given        942    942                       612    1\n",
       "Astronaut name         952    951               Unknown Dog    2\n",
       "country                952     42  United States of America  523\n",
       "company space agency   629     22                      NASA  364\n",
       "missions               952      8                         1  540\n",
       "days in space          621    370                       <.1   25\n",
       "spacewalks             621     12                         -  379\n",
       "days spacewalking      621     30                         -  379\n",
       "acheivement 1          734    133       Crossed Kármán Line  325\n",
       "acheivement 2          403     43       Crossed Kármán Line  266\n",
       "acheivement 3          215     21            Space Resident  146\n",
       "acheivement 4          331    132                       Dog   47\n",
       "still in space          10      1                       yes   10"
      ]
     },
     "execution_count": 6,
     "metadata": {},
     "output_type": "execute_result"
    }
   ],
   "source": [
    "#lets look at these object variables\n",
    "df.describe(include = object).T "
   ]
  },
  {
   "cell_type": "markdown",
   "id": "b6cde270",
   "metadata": {},
   "source": [
    "**Observations:**\n",
    "- All astronauts have a unique code, and repeated names are likely due to animals, such as \"unknown dog\" but it's worth looking into.\n",
    "- Astronauts from 42 unique countries have gone to space! That could be interesting to visualize. \n",
    "- They have gone on up to 8 different missions\n",
    "- Days in space, spacewalks, and days spacewalking all sound like interesting variables that should be converted to float or int. \n",
    "- It isn't clear what the achievement columns represent. Though achievement 4 appears to refer to animals which are of interest. "
   ]
  },
  {
   "cell_type": "markdown",
   "id": "57401c89",
   "metadata": {},
   "source": [
    "## Cleaning and Preparing the Data"
   ]
  },
  {
   "cell_type": "code",
   "execution_count": 7,
   "id": "a91741c1",
   "metadata": {},
   "outputs": [
    {
     "data": {
      "text/html": [
       "<div>\n",
       "<style scoped>\n",
       "    .dataframe tbody tr th:only-of-type {\n",
       "        vertical-align: middle;\n",
       "    }\n",
       "\n",
       "    .dataframe tbody tr th {\n",
       "        vertical-align: top;\n",
       "    }\n",
       "\n",
       "    .dataframe thead th {\n",
       "        text-align: right;\n",
       "    }\n",
       "</style>\n",
       "<table border=\"1\" class=\"dataframe\">\n",
       "  <thead>\n",
       "    <tr style=\"text-align: right;\">\n",
       "      <th></th>\n",
       "      <th>Total</th>\n",
       "      <th>Percent</th>\n",
       "    </tr>\n",
       "  </thead>\n",
       "  <tbody>\n",
       "    <tr>\n",
       "      <th>still in space</th>\n",
       "      <td>942</td>\n",
       "      <td>0.989496</td>\n",
       "    </tr>\n",
       "    <tr>\n",
       "      <th>acheivement 3</th>\n",
       "      <td>737</td>\n",
       "      <td>0.774160</td>\n",
       "    </tr>\n",
       "    <tr>\n",
       "      <th>acheivement 4</th>\n",
       "      <td>621</td>\n",
       "      <td>0.652311</td>\n",
       "    </tr>\n",
       "    <tr>\n",
       "      <th>acheivement 2</th>\n",
       "      <td>549</td>\n",
       "      <td>0.576681</td>\n",
       "    </tr>\n",
       "    <tr>\n",
       "      <th>days in space</th>\n",
       "      <td>331</td>\n",
       "      <td>0.347689</td>\n",
       "    </tr>\n",
       "    <tr>\n",
       "      <th>spacewalks</th>\n",
       "      <td>331</td>\n",
       "      <td>0.347689</td>\n",
       "    </tr>\n",
       "    <tr>\n",
       "      <th>days spacewalking</th>\n",
       "      <td>331</td>\n",
       "      <td>0.347689</td>\n",
       "    </tr>\n",
       "    <tr>\n",
       "      <th>company space agency</th>\n",
       "      <td>323</td>\n",
       "      <td>0.339286</td>\n",
       "    </tr>\n",
       "    <tr>\n",
       "      <th>acheivement 1</th>\n",
       "      <td>218</td>\n",
       "      <td>0.228992</td>\n",
       "    </tr>\n",
       "    <tr>\n",
       "      <th>s.no/code given</th>\n",
       "      <td>10</td>\n",
       "      <td>0.010504</td>\n",
       "    </tr>\n",
       "    <tr>\n",
       "      <th>Astronaut name</th>\n",
       "      <td>0</td>\n",
       "      <td>0.000000</td>\n",
       "    </tr>\n",
       "    <tr>\n",
       "      <th>country</th>\n",
       "      <td>0</td>\n",
       "      <td>0.000000</td>\n",
       "    </tr>\n",
       "    <tr>\n",
       "      <th>missions</th>\n",
       "      <td>0</td>\n",
       "      <td>0.000000</td>\n",
       "    </tr>\n",
       "  </tbody>\n",
       "</table>\n",
       "</div>"
      ],
      "text/plain": [
       "                      Total   Percent\n",
       "still in space          942  0.989496\n",
       "acheivement 3           737  0.774160\n",
       "acheivement 4           621  0.652311\n",
       "acheivement 2           549  0.576681\n",
       "days in space           331  0.347689\n",
       "spacewalks              331  0.347689\n",
       "days spacewalking       331  0.347689\n",
       "company space agency    323  0.339286\n",
       "acheivement 1           218  0.228992\n",
       "s.no/code given          10  0.010504\n",
       "Astronaut name            0  0.000000\n",
       "country                   0  0.000000\n",
       "missions                  0  0.000000"
      ]
     },
     "execution_count": 7,
     "metadata": {},
     "output_type": "execute_result"
    }
   ],
   "source": [
    "#check for missing data\n",
    "def missing_check(df):\n",
    "    total = df.isnull().sum().sort_values(ascending=False)  \n",
    "    percent = (df.isnull().sum()/df.isnull().count()).sort_values(ascending=False)  \n",
    "    missing_data = pd.concat([total, percent], axis=1, keys=['Total', 'Percent']) \n",
    "    return missing_data \n",
    "missing_check(df)"
   ]
  },
  {
   "cell_type": "code",
   "execution_count": 8,
   "id": "94c02036",
   "metadata": {},
   "outputs": [
    {
     "name": "stdout",
     "output_type": "stream",
     "text": [
      "0      <.1\n",
      "1      <.1\n",
      "2      <.1\n",
      "3      <.1\n",
      "4      <.1\n",
      "5      <.1\n",
      "6     11.8\n",
      "7     11.8\n",
      "8    119.8\n",
      "9    119.8\n",
      "Name: days in space, dtype: object\n"
     ]
    }
   ],
   "source": [
    "print(df['days in space'].head(10))"
   ]
  },
  {
   "cell_type": "code",
   "execution_count": 9,
   "id": "0a3c301d",
   "metadata": {},
   "outputs": [
    {
     "name": "stdout",
     "output_type": "stream",
     "text": [
      "0    -\n",
      "1    -\n",
      "2    -\n",
      "3    -\n",
      "4    -\n",
      "5    -\n",
      "6    -\n",
      "7    -\n",
      "8    1\n",
      "9    -\n",
      "Name: spacewalks, dtype: object\n"
     ]
    }
   ],
   "source": [
    "print(df['spacewalks'].head(10))"
   ]
  },
  {
   "cell_type": "code",
   "execution_count": 10,
   "id": "9bc45382",
   "metadata": {},
   "outputs": [
    {
     "name": "stdout",
     "output_type": "stream",
     "text": [
      "0      -\n",
      "1      -\n",
      "2      -\n",
      "3      -\n",
      "4      -\n",
      "5      -\n",
      "6      -\n",
      "7      -\n",
      "8    0.3\n",
      "9      -\n",
      "Name: days spacewalking, dtype: object\n"
     ]
    }
   ],
   "source": [
    "print(df['days spacewalking'].head(10))"
   ]
  },
  {
   "cell_type": "markdown",
   "id": "83bc731c",
   "metadata": {},
   "source": [
    "**Observations:**\n",
    "- There are 4 columns we want to convert to numeric. Missions, Spacewalks, Days spacewalking, and days in space\n",
    "- we need to remove the less than symbol in \"days in space\" before we convert.\n",
    "- We might need to change \"-\" to NaN before we convert. \n",
    "- lets batch convert and let python do the work by errors = 'coerce'"
   ]
  },
  {
   "cell_type": "code",
   "execution_count": 11,
   "id": "57c91987",
   "metadata": {},
   "outputs": [
    {
     "data": {
      "text/plain": [
       "s.no/code given          object\n",
       "Astronaut name           object\n",
       "country                  object\n",
       "company space agency     object\n",
       "missions                float64\n",
       "days in space           float64\n",
       "spacewalks              float64\n",
       "days spacewalking       float64\n",
       "acheivement 1            object\n",
       "acheivement 2            object\n",
       "acheivement 3            object\n",
       "acheivement 4            object\n",
       "still in space           object\n",
       "dtype: object"
      ]
     },
     "execution_count": 11,
     "metadata": {},
     "output_type": "execute_result"
    }
   ],
   "source": [
    "# List of columns to convert\n",
    "numeric_columns = ['days in space', 'spacewalks', 'days spacewalking', 'missions']\n",
    "#copying data to new dataframe\n",
    "df_num = df.copy()\n",
    "# Looping for conversion og columns\n",
    "for col in numeric_columns:\n",
    "    df_num[col] = pd.to_numeric(df_num[col], errors = 'coerce')\n",
    "df_num.dtypes"
   ]
  },
  {
   "cell_type": "code",
   "execution_count": 12,
   "id": "a582d5ee",
   "metadata": {},
   "outputs": [
    {
     "name": "stdout",
     "output_type": "stream",
     "text": [
      "     days in space  spacewalks  days spacewalking  missions\n",
      "0              NaN         NaN                NaN       1.0\n",
      "1              NaN         NaN                NaN       1.0\n",
      "2              NaN         NaN                NaN       1.0\n",
      "3              NaN         NaN                NaN       1.0\n",
      "4              NaN         NaN                NaN       1.0\n",
      "..             ...         ...                ...       ...\n",
      "947            NaN         NaN                NaN       NaN\n",
      "948            NaN         NaN                NaN       NaN\n",
      "949            NaN         NaN                NaN       NaN\n",
      "950            NaN         NaN                NaN       NaN\n",
      "951            NaN         NaN                NaN       NaN\n",
      "\n",
      "[952 rows x 4 columns]\n"
     ]
    }
   ],
   "source": [
    "print(df_num[numeric_columns])"
   ]
  },
  {
   "cell_type": "markdown",
   "id": "6dd39e58",
   "metadata": {},
   "source": [
    "## Univariate and Bivariate Analysis"
   ]
  },
  {
   "cell_type": "code",
   "execution_count": 13,
   "id": "c35cca6d",
   "metadata": {},
   "outputs": [
    {
     "data": {
      "text/plain": [
       "array([[<AxesSubplot:title={'center':'missions'}>,\n",
       "        <AxesSubplot:title={'center':'days in space'}>],\n",
       "       [<AxesSubplot:title={'center':'spacewalks'}>,\n",
       "        <AxesSubplot:title={'center':'days spacewalking'}>]], dtype=object)"
      ]
     },
     "execution_count": 13,
     "metadata": {},
     "output_type": "execute_result"
    },
    {
     "data": {
      "image/png": "[encoded data removed]",
      "text/plain": [
       "<Figure size 720x720 with 4 Axes>"
      ]
     },
     "metadata": {
      "needs_background": "light"
     },
     "output_type": "display_data"
    }
   ],
   "source": [
    "#histograms of continuous data\n",
    "df_num.hist(figsize=(10,10))"
   ]
  },
  {
   "cell_type": "code",
   "execution_count": 29,
   "id": "768e6591",
   "metadata": {},
   "outputs": [
    {
     "data": {
      "text/plain": [
       "NASA                      364\n",
       "CCCP                       86\n",
       "Roscosmos                  61\n",
       "ESA                        15\n",
       "Blue Origin                14\n",
       "CMS                        14\n",
       "CSA                         9\n",
       "Space Adventures, Inc.      9\n",
       "CNES                        9\n",
       "SpaceX                      9\n",
       "NASDA                       8\n",
       "Virgin Galactic             7\n",
       "DLR                         7\n",
       "ASI                         6\n",
       "JAXA                        3\n",
       "Scaled Composites           2\n",
       "MBRSC                       1\n",
       "KazCosmos                   1\n",
       "KAP                         1\n",
       "ANGKASA                     1\n",
       "SSAU                        1\n",
       "Project Juno                1\n",
       "Name: company space agency, dtype: int64"
      ]
     },
     "execution_count": 29,
     "metadata": {},
     "output_type": "execute_result"
    }
   ],
   "source": [
    "df_num['company space agency'].value_counts()"
   ]
  },
  {
   "cell_type": "code",
   "execution_count": 30,
   "id": "60434b3b",
   "metadata": {},
   "outputs": [
    {
     "data": {
      "text/plain": [
       "United States of America    523\n",
       "USSR                        171\n",
       "Russia                      115\n",
       "Japan                        23\n",
       "China                        22\n",
       "France                       16\n",
       "Germany                      12\n",
       "Canada                       12\n",
       "Italy                         7\n",
       "Iran                          6\n",
       "UK                            4\n",
       "Netherlands                   3\n",
       "Israel                        3\n",
       "Bulgaria                      2\n",
       "India                         2\n",
       "Vietnam                       2\n",
       "Belgium                       2\n",
       "Argentina                     2\n",
       "Hungary                       2\n",
       "United Arab Emirates          1\n",
       "Czechoslovakia                1\n",
       "Poland                        1\n",
       "Cuba                          1\n",
       "Mongolia                      1\n",
       "Romania                       1\n",
       "Saudi Arabia                  1\n",
       "Mexico                        1\n",
       "Syria                         1\n",
       "Australia                     1\n",
       "Afghanistan                   1\n",
       "Sweden                        1\n",
       "Austria                       1\n",
       "Denmark                       1\n",
       "Switzerland                   1\n",
       "Ukraine                       1\n",
       "Spain                         1\n",
       "Slovakia                      1\n",
       "South Africa                  1\n",
       "South Korea                   1\n",
       "Malaysia                      1\n",
       "Brazil                        1\n",
       "Kazakhstan                    1\n",
       "Name: country, dtype: int64"
      ]
     },
     "execution_count": 30,
     "metadata": {},
     "output_type": "execute_result"
    }
   ],
   "source": [
    "df_num['country'].value_counts()"
   ]
  },
  {
   "cell_type": "code",
   "execution_count": 32,
   "id": "b7353254",
   "metadata": {},
   "outputs": [
    {
     "data": {
      "text/plain": [
       "Crossed Kármán Line                       325\n",
       "ISS Visitor                               234\n",
       "Memorial                                   21\n",
       "Moonwalker                                 12\n",
       "Crossed 80km Line                           8\n",
       "                                         ... \n",
       "First Yeast (Saccharomyces cerevisiae)      1\n",
       "First Bacillus safensis                     1\n",
       "First Deinococcus radiodurans               1\n",
       "First Haloarcula marismortui                1\n",
       "First Dog                                   1\n",
       "Name: acheivement 1, Length: 133, dtype: int64"
      ]
     },
     "execution_count": 32,
     "metadata": {},
     "output_type": "execute_result"
    }
   ],
   "source": [
    "df_num['acheivement 1'].value_counts()"
   ]
  },
  {
   "cell_type": "code",
   "execution_count": 34,
   "id": "d542061e",
   "metadata": {},
   "outputs": [
    {
     "data": {
      "text/plain": [
       "Dog                            47\n",
       "Rat                            37\n",
       "Mouse                          23\n",
       "Fruit Fly                      17\n",
       "Monkey                          7\n",
       "                               ..\n",
       "Bacillus safensis               1\n",
       "Haloarcula marismortui          1\n",
       "Methanothermobacter wolfeii     1\n",
       "Pyrococcus furiosus             1\n",
       "Guinea Pig                      1\n",
       "Name: acheivement 4, Length: 132, dtype: int64"
      ]
     },
     "execution_count": 34,
     "metadata": {},
     "output_type": "execute_result"
    }
   ],
   "source": [
    "df_num['acheivement 4'].value_counts()"
   ]
  },
  {
   "cell_type": "markdown",
   "id": "255f1ee5",
   "metadata": {},
   "source": [
    "**Observations:**\n",
    "- By investigating the achievement types, achievement 1,2, and 3 are filled for humans and can have the same achievement in different columns for different people.\n",
    "- for animals, the achievement type 4 lists the type of animal they are\n",
    "- for animals, achievement type 1 lists if they were the first of that type in space. \n",
    "\n",
    "Next we will break out the dataframes into human and animal"
   ]
  },
  {
   "cell_type": "code",
   "execution_count": 70,
   "id": "b9d51df0",
   "metadata": {},
   "outputs": [],
   "source": [
    "df_num['acheivement 4'].fillna('NaN', inplace=True)"
   ]
  },
  {
   "cell_type": "code",
   "execution_count": 74,
   "id": "d46be9be",
   "metadata": {},
   "outputs": [],
   "source": [
    "df_human = df_num[df_num['acheivement 4'] == 'NaN']\n",
    "df_animal = df_num[df_num['acheivement 4'] != 'NaN']"
   ]
  },
  {
   "cell_type": "code",
   "execution_count": 76,
   "id": "57af3499",
   "metadata": {},
   "outputs": [
    {
     "data": {
      "text/plain": [
       "(621, 14)"
      ]
     },
     "execution_count": 76,
     "metadata": {},
     "output_type": "execute_result"
    }
   ],
   "source": [
    "df_human.shape"
   ]
  },
  {
   "cell_type": "code",
   "execution_count": 77,
   "id": "c4979d4a",
   "metadata": {},
   "outputs": [
    {
     "data": {
      "text/plain": [
       "(331, 14)"
      ]
     },
     "execution_count": 77,
     "metadata": {},
     "output_type": "execute_result"
    }
   ],
   "source": [
    "df_animal.shape"
   ]
  },
  {
   "cell_type": "code",
   "execution_count": 93,
   "id": "7264ec05",
   "metadata": {},
   "outputs": [
    {
     "data": {
      "image/png": "[encoded data removed]",
      "text/plain": [
       "<Figure size 936x576 with 1 Axes>"
      ]
     },
     "metadata": {
      "needs_background": "light"
     },
     "output_type": "display_data"
    }
   ],
   "source": [
    "plt.figure(figsize=(13,8))\n",
    "sns.boxplot(y=df_human[\"days in space\"],  x=df_human[\"country\"].sort_values())\n",
    "plt.grid(True)\n",
    "plt.title(\"Days in space by Country\")\n",
    "plt.xticks(rotation=90)\n",
    "plt.show()"
   ]
  },
  {
   "cell_type": "code",
   "execution_count": 103,
   "id": "4e09cfc9",
   "metadata": {},
   "outputs": [
    {
     "data": {
      "image/png": "[encoded data removed]",
      "text/plain": [
       "<Figure size 1080x360 with 1 Axes>"
      ]
     },
     "metadata": {
      "needs_background": "light"
     },
     "output_type": "display_data"
    }
   ],
   "source": [
    "df_human.groupby(by=['country'])['missions'].sum().reset_index().sort_values(['missions']).tail(10).plot(x='country', y='missions',   kind='bar', figsize=(15,5));\n"
   ]
  },
  {
   "cell_type": "code",
   "execution_count": 101,
   "id": "27bbc7bb",
   "metadata": {},
   "outputs": [
    {
     "data": {
      "image/png": "[encoded data removed]",
      "text/plain": [
       "<Figure size 720x360 with 1 Axes>"
      ]
     },
     "metadata": {
      "needs_background": "light"
     },
     "output_type": "display_data"
    }
   ],
   "source": [
    "plt.figure(figsize=(10,5))\n",
    "plt.xticks(rotation=90)\n",
    "ax = sns.barplot(x='company space agency', y='days spacewalking', \n",
    "                 data=df_human, palette='muted')  "
   ]
  },
  {
   "cell_type": "markdown",
   "id": "c66999c3",
   "metadata": {},
   "source": [
    "output the dataframes as CSV to create a dashboard in tableau"
   ]
  },
  {
   "cell_type": "code",
   "execution_count": 107,
   "id": "3c717993",
   "metadata": {},
   "outputs": [],
   "source": [
    "df_animal.to_csv(r'df_animal.csv')\n",
    "df_human.to_csv(r'df_human.csv')"
   ]
  }
 ],
 "metadata": {
  "kernelspec": {
   "display_name": "Python 3 (ipykernel)",
   "language": "python",
   "name": "python3"
  },
  "language_info": {
   "codemirror_mode": {
    "name": "ipython",
    "version": 3
   },
   "file_extension": ".py",
   "mimetype": "text/x-python",
   "name": "python",
   "nbconvert_exporter": "python",
   "pygments_lexer": "ipython3",
   "version": "3.9.7"
  }
 },
 "nbformat": 4,
 "nbformat_minor": 5
}
