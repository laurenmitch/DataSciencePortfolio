{
 "cells": [
  {
   "cell_type": "markdown",
   "id": "72450e48",
   "metadata": {},
   "source": [
    "Has the popular online game Wordle gottten more difficult since it was purchased by the New York Times on January 31st 2022?"
   ]
  },
  {
   "cell_type": "markdown",
   "id": "b6624ccd",
   "metadata": {},
   "source": [
    "## Data Import and Cleaning"
   ]
  },
  {
   "cell_type": "code",
   "execution_count": 1,
   "id": "b916bc2b",
   "metadata": {},
   "outputs": [],
   "source": [
    "import numpy as np\n",
    "import pandas as pd\n",
    "import matplotlib.pyplot as plt\n",
    "import seaborn as sns\n",
    "sns.set_style('darkgrid')"
   ]
  },
  {
   "cell_type": "markdown",
   "id": "2c918f39",
   "metadata": {},
   "source": [
    "I found the data sources for all the Wordle words on the site linked below. Reader beware, they know the Wordle words until 2027. I only included them until todays date as of writing, June 15, 2022. I did some pre-processing in excel where I extracted the date and the word.\n",
    "\n",
    "Source: https://medium.com/@owenyin/here-lies-wordle-2021-2027-full-answer-list-52017ee99e86"
   ]
  },
  {
   "cell_type": "code",
   "execution_count": 2,
   "id": "dbeeb67a",
   "metadata": {},
   "outputs": [],
   "source": [
    "wordle = pd.read_csv('WordleWords.csv')"
   ]
  },
  {
   "cell_type": "markdown",
   "id": "ab309a64",
   "metadata": {},
   "source": [
    "The next data source needs to be something that can rank words by difficulty. This is obviously more subjective. However, I found a Kaggle dataset with english words based on frequency, which I feel is a fair way to measure difficulty. It includes 1/3 of a million words so lets home it includes all the Wordle words.\n",
    "\n",
    "Source: https://www.kaggle.com/datasets/rtatman/english-word-frequency"
   ]
  },
  {
   "cell_type": "code",
   "execution_count": 3,
   "id": "0f2714f9",
   "metadata": {},
   "outputs": [],
   "source": [
    "word_freq = pd.read_csv('unigram_freq.csv')"
   ]
  },
  {
   "cell_type": "code",
   "execution_count": 4,
   "id": "4e70bc59",
   "metadata": {},
   "outputs": [
    {
     "data": {
      "text/html": [
       "<div>\n",
       "<style scoped>\n",
       "    .dataframe tbody tr th:only-of-type {\n",
       "        vertical-align: middle;\n",
       "    }\n",
       "\n",
       "    .dataframe tbody tr th {\n",
       "        vertical-align: top;\n",
       "    }\n",
       "\n",
       "    .dataframe thead th {\n",
       "        text-align: right;\n",
       "    }\n",
       "</style>\n",
       "<table border=\"1\" class=\"dataframe\">\n",
       "  <thead>\n",
       "    <tr style=\"text-align: right;\">\n",
       "      <th></th>\n",
       "      <th>Date</th>\n",
       "      <th>Word</th>\n",
       "      <th>Before_nyt</th>\n",
       "    </tr>\n",
       "  </thead>\n",
       "  <tbody>\n",
       "    <tr>\n",
       "      <th>354</th>\n",
       "      <td>Jun 11 2022</td>\n",
       "      <td>PHASE</td>\n",
       "      <td>False</td>\n",
       "    </tr>\n",
       "    <tr>\n",
       "      <th>355</th>\n",
       "      <td>Jun 12 2022</td>\n",
       "      <td>FROTH</td>\n",
       "      <td>False</td>\n",
       "    </tr>\n",
       "    <tr>\n",
       "      <th>356</th>\n",
       "      <td>Jun 13 2022</td>\n",
       "      <td>DEPTH</td>\n",
       "      <td>False</td>\n",
       "    </tr>\n",
       "    <tr>\n",
       "      <th>357</th>\n",
       "      <td>Jun 14 2022</td>\n",
       "      <td>GLOOM</td>\n",
       "      <td>False</td>\n",
       "    </tr>\n",
       "    <tr>\n",
       "      <th>358</th>\n",
       "      <td>Jun 15 2022</td>\n",
       "      <td>FLOOD</td>\n",
       "      <td>False</td>\n",
       "    </tr>\n",
       "  </tbody>\n",
       "</table>\n",
       "</div>"
      ],
      "text/plain": [
       "             Date   Word  Before_nyt\n",
       "354  Jun 11 2022   PHASE       False\n",
       "355  Jun 12 2022   FROTH       False\n",
       "356  Jun 13 2022   DEPTH       False\n",
       "357  Jun 14 2022   GLOOM       False\n",
       "358  Jun 15 2022   FLOOD       False"
      ]
     },
     "execution_count": 4,
     "metadata": {},
     "output_type": "execute_result"
    }
   ],
   "source": [
    "wordle.tail()"
   ]
  },
  {
   "cell_type": "code",
   "execution_count": 5,
   "id": "a77fec23",
   "metadata": {},
   "outputs": [
    {
     "data": {
      "text/plain": [
       "(359, 3)"
      ]
     },
     "execution_count": 5,
     "metadata": {},
     "output_type": "execute_result"
    }
   ],
   "source": [
    "wordle.shape"
   ]
  },
  {
   "cell_type": "code",
   "execution_count": 6,
   "id": "4d0c1a81",
   "metadata": {},
   "outputs": [
    {
     "data": {
      "text/html": [
       "<div>\n",
       "<style scoped>\n",
       "    .dataframe tbody tr th:only-of-type {\n",
       "        vertical-align: middle;\n",
       "    }\n",
       "\n",
       "    .dataframe tbody tr th {\n",
       "        vertical-align: top;\n",
       "    }\n",
       "\n",
       "    .dataframe thead th {\n",
       "        text-align: right;\n",
       "    }\n",
       "</style>\n",
       "<table border=\"1\" class=\"dataframe\">\n",
       "  <thead>\n",
       "    <tr style=\"text-align: right;\">\n",
       "      <th></th>\n",
       "      <th>word</th>\n",
       "      <th>count</th>\n",
       "    </tr>\n",
       "  </thead>\n",
       "  <tbody>\n",
       "    <tr>\n",
       "      <th>0</th>\n",
       "      <td>the</td>\n",
       "      <td>23135851162</td>\n",
       "    </tr>\n",
       "    <tr>\n",
       "      <th>1</th>\n",
       "      <td>of</td>\n",
       "      <td>13151942776</td>\n",
       "    </tr>\n",
       "    <tr>\n",
       "      <th>2</th>\n",
       "      <td>and</td>\n",
       "      <td>12997637966</td>\n",
       "    </tr>\n",
       "    <tr>\n",
       "      <th>3</th>\n",
       "      <td>to</td>\n",
       "      <td>12136980858</td>\n",
       "    </tr>\n",
       "    <tr>\n",
       "      <th>4</th>\n",
       "      <td>a</td>\n",
       "      <td>9081174698</td>\n",
       "    </tr>\n",
       "  </tbody>\n",
       "</table>\n",
       "</div>"
      ],
      "text/plain": [
       "  word        count\n",
       "0  the  23135851162\n",
       "1   of  13151942776\n",
       "2  and  12997637966\n",
       "3   to  12136980858\n",
       "4    a   9081174698"
      ]
     },
     "execution_count": 6,
     "metadata": {},
     "output_type": "execute_result"
    }
   ],
   "source": [
    "word_freq.head()"
   ]
  },
  {
   "cell_type": "markdown",
   "id": "e66bf8e1",
   "metadata": {},
   "source": [
    "At this point I know I need to complete three things. \n",
    "1. turn the date column into datetime\n",
    "2. turn the count column into a rank with the more frequent words being lower (\"the\" should be 1)\n",
    "3. Merge the two dataframes based on the word column. This should be a inner join so we only have the wordle words."
   ]
  },
  {
   "cell_type": "code",
   "execution_count": 7,
   "id": "6dc975c4",
   "metadata": {},
   "outputs": [],
   "source": [
    "wordle['Date'] = pd.to_datetime(wordle['Date'] )"
   ]
  },
  {
   "cell_type": "code",
   "execution_count": 8,
   "id": "9647033c",
   "metadata": {},
   "outputs": [
    {
     "data": {
      "text/plain": [
       "Date          datetime64[ns]\n",
       "Word                  object\n",
       "Before_nyt              bool\n",
       "dtype: object"
      ]
     },
     "execution_count": 8,
     "metadata": {},
     "output_type": "execute_result"
    }
   ],
   "source": [
    "wordle.dtypes"
   ]
  },
  {
   "cell_type": "code",
   "execution_count": 9,
   "id": "a79c8a58",
   "metadata": {},
   "outputs": [],
   "source": [
    "word_freq['freq_rank'] = word_freq['count'].rank(ascending = 0, method  = 'min')"
   ]
  },
  {
   "cell_type": "code",
   "execution_count": 10,
   "id": "adbd1def",
   "metadata": {},
   "outputs": [
    {
     "data": {
      "text/html": [
       "<div>\n",
       "<style scoped>\n",
       "    .dataframe tbody tr th:only-of-type {\n",
       "        vertical-align: middle;\n",
       "    }\n",
       "\n",
       "    .dataframe tbody tr th {\n",
       "        vertical-align: top;\n",
       "    }\n",
       "\n",
       "    .dataframe thead th {\n",
       "        text-align: right;\n",
       "    }\n",
       "</style>\n",
       "<table border=\"1\" class=\"dataframe\">\n",
       "  <thead>\n",
       "    <tr style=\"text-align: right;\">\n",
       "      <th></th>\n",
       "      <th>word</th>\n",
       "      <th>count</th>\n",
       "      <th>freq_rank</th>\n",
       "    </tr>\n",
       "  </thead>\n",
       "  <tbody>\n",
       "    <tr>\n",
       "      <th>0</th>\n",
       "      <td>the</td>\n",
       "      <td>23135851162</td>\n",
       "      <td>1.0</td>\n",
       "    </tr>\n",
       "    <tr>\n",
       "      <th>1</th>\n",
       "      <td>of</td>\n",
       "      <td>13151942776</td>\n",
       "      <td>2.0</td>\n",
       "    </tr>\n",
       "    <tr>\n",
       "      <th>2</th>\n",
       "      <td>and</td>\n",
       "      <td>12997637966</td>\n",
       "      <td>3.0</td>\n",
       "    </tr>\n",
       "    <tr>\n",
       "      <th>3</th>\n",
       "      <td>to</td>\n",
       "      <td>12136980858</td>\n",
       "      <td>4.0</td>\n",
       "    </tr>\n",
       "    <tr>\n",
       "      <th>4</th>\n",
       "      <td>a</td>\n",
       "      <td>9081174698</td>\n",
       "      <td>5.0</td>\n",
       "    </tr>\n",
       "  </tbody>\n",
       "</table>\n",
       "</div>"
      ],
      "text/plain": [
       "  word        count  freq_rank\n",
       "0  the  23135851162        1.0\n",
       "1   of  13151942776        2.0\n",
       "2  and  12997637966        3.0\n",
       "3   to  12136980858        4.0\n",
       "4    a   9081174698        5.0"
      ]
     },
     "execution_count": 10,
     "metadata": {},
     "output_type": "execute_result"
    }
   ],
   "source": [
    "word_freq.head()"
   ]
  },
  {
   "cell_type": "markdown",
   "id": "5c38478d",
   "metadata": {},
   "source": [
    "From a previous look at the word_freq df I know that some words have the same count, therefore will have the same rank. I have chosen method = 'min', which means if there is a tie the words will share the lower rank, then the next rank will be skipped. \n"
   ]
  },
  {
   "cell_type": "code",
   "execution_count": 11,
   "id": "07b1b640",
   "metadata": {},
   "outputs": [
    {
     "name": "stdout",
     "output_type": "stream",
     "text": [
      "           word  count  freq_rank\n",
      "333323  googllr  12711   333182.0\n",
      "333324  googlal  12711   333182.0\n",
      "333325  googgoo  12711   333182.0\n",
      "333326  googgol  12711   333182.0\n",
      "333327   goofel  12711   333182.0\n",
      "333328    gooek  12711   333182.0\n",
      "333329   gooddg  12711   333182.0\n",
      "333330  gooblle  12711   333182.0\n",
      "333331   gollgo  12711   333182.0\n",
      "333332    golgw  12711   333182.0\n",
      "(359, 3)\n"
     ]
    }
   ],
   "source": [
    "print(word_freq.tail(10))\n",
    "print(wordle.shape)"
   ]
  },
  {
   "cell_type": "markdown",
   "id": "82f67a49",
   "metadata": {},
   "source": [
    "Now we need to complete an inner join on the two tables on the word column. However, the words in the wordle table are uppercase, the words in the word_freq table are lowercase. "
   ]
  },
  {
   "cell_type": "code",
   "execution_count": 12,
   "id": "369a78e6",
   "metadata": {},
   "outputs": [
    {
     "data": {
      "text/html": [
       "<div>\n",
       "<style scoped>\n",
       "    .dataframe tbody tr th:only-of-type {\n",
       "        vertical-align: middle;\n",
       "    }\n",
       "\n",
       "    .dataframe tbody tr th {\n",
       "        vertical-align: top;\n",
       "    }\n",
       "\n",
       "    .dataframe thead th {\n",
       "        text-align: right;\n",
       "    }\n",
       "</style>\n",
       "<table border=\"1\" class=\"dataframe\">\n",
       "  <thead>\n",
       "    <tr style=\"text-align: right;\">\n",
       "      <th></th>\n",
       "      <th>Date</th>\n",
       "      <th>Word</th>\n",
       "      <th>Before_nyt</th>\n",
       "    </tr>\n",
       "  </thead>\n",
       "  <tbody>\n",
       "    <tr>\n",
       "      <th>0</th>\n",
       "      <td>2021-06-19</td>\n",
       "      <td>cigar</td>\n",
       "      <td>True</td>\n",
       "    </tr>\n",
       "    <tr>\n",
       "      <th>1</th>\n",
       "      <td>2021-06-20</td>\n",
       "      <td>rebut</td>\n",
       "      <td>True</td>\n",
       "    </tr>\n",
       "    <tr>\n",
       "      <th>2</th>\n",
       "      <td>2021-06-21</td>\n",
       "      <td>sissy</td>\n",
       "      <td>True</td>\n",
       "    </tr>\n",
       "    <tr>\n",
       "      <th>3</th>\n",
       "      <td>2021-06-22</td>\n",
       "      <td>humph</td>\n",
       "      <td>True</td>\n",
       "    </tr>\n",
       "    <tr>\n",
       "      <th>4</th>\n",
       "      <td>2021-06-23</td>\n",
       "      <td>awake</td>\n",
       "      <td>True</td>\n",
       "    </tr>\n",
       "  </tbody>\n",
       "</table>\n",
       "</div>"
      ],
      "text/plain": [
       "        Date   Word  Before_nyt\n",
       "0 2021-06-19  cigar        True\n",
       "1 2021-06-20  rebut        True\n",
       "2 2021-06-21  sissy        True\n",
       "3 2021-06-22  humph        True\n",
       "4 2021-06-23  awake        True"
      ]
     },
     "execution_count": 12,
     "metadata": {},
     "output_type": "execute_result"
    }
   ],
   "source": [
    "wordle['Word'] = wordle['Word'].str.lower()\n",
    "wordle.head()"
   ]
  },
  {
   "cell_type": "code",
   "execution_count": 13,
   "id": "6511dfd0",
   "metadata": {},
   "outputs": [],
   "source": [
    "wordle_words = pd.merge(wordle, word_freq, left_on='Word',right_on='word')"
   ]
  },
  {
   "cell_type": "code",
   "execution_count": 14,
   "id": "dcec95af",
   "metadata": {},
   "outputs": [
    {
     "data": {
      "text/plain": [
       "(358, 6)"
      ]
     },
     "execution_count": 14,
     "metadata": {},
     "output_type": "execute_result"
    }
   ],
   "source": [
    "wordle_words.shape"
   ]
  },
  {
   "cell_type": "code",
   "execution_count": 15,
   "id": "f8f9d663",
   "metadata": {},
   "outputs": [
    {
     "data": {
      "text/html": [
       "<div>\n",
       "<style scoped>\n",
       "    .dataframe tbody tr th:only-of-type {\n",
       "        vertical-align: middle;\n",
       "    }\n",
       "\n",
       "    .dataframe tbody tr th {\n",
       "        vertical-align: top;\n",
       "    }\n",
       "\n",
       "    .dataframe thead th {\n",
       "        text-align: right;\n",
       "    }\n",
       "</style>\n",
       "<table border=\"1\" class=\"dataframe\">\n",
       "  <thead>\n",
       "    <tr style=\"text-align: right;\">\n",
       "      <th></th>\n",
       "      <th>Date</th>\n",
       "      <th>Word</th>\n",
       "      <th>Before_nyt</th>\n",
       "      <th>word</th>\n",
       "      <th>count</th>\n",
       "      <th>freq_rank</th>\n",
       "    </tr>\n",
       "  </thead>\n",
       "  <tbody>\n",
       "  </tbody>\n",
       "</table>\n",
       "</div>"
      ],
      "text/plain": [
       "Empty DataFrame\n",
       "Columns: [Date, Word, Before_nyt, word, count, freq_rank]\n",
       "Index: []"
      ]
     },
     "execution_count": 15,
     "metadata": {},
     "output_type": "execute_result"
    }
   ],
   "source": [
    "wordle_words[wordle_words[\"Word\"] != wordle_words[\"word\"]]"
   ]
  },
  {
   "cell_type": "markdown",
   "id": "ec721512",
   "metadata": {},
   "source": [
    "Our original Wordle table had 359 rows and this output only has 358 rows. We lost one word in the process. It's not a huge deal for our analysis because we are looking at overall trends."
   ]
  },
  {
   "cell_type": "markdown",
   "id": "f01e298b",
   "metadata": {},
   "source": [
    "## Data Visualization"
   ]
  },
  {
   "cell_type": "code",
   "execution_count": 16,
   "id": "28ea0a25",
   "metadata": {},
   "outputs": [
    {
     "data": {
      "image/png": "[encoded data removed]",
      "text/plain": [
       "<Figure size 1080x720 with 1 Axes>"
      ]
     },
     "metadata": {},
     "output_type": "display_data"
    }
   ],
   "source": [
    "figure = plt.figure(figsize=(15,10))\n",
    "sns.lineplot(x='Date',y='freq_rank', data=wordle_words);"
   ]
  },
  {
   "cell_type": "code",
   "execution_count": 17,
   "id": "36cb298b",
   "metadata": {},
   "outputs": [
    {
     "data": {
      "text/html": [
       "<div>\n",
       "<style scoped>\n",
       "    .dataframe tbody tr th:only-of-type {\n",
       "        vertical-align: middle;\n",
       "    }\n",
       "\n",
       "    .dataframe tbody tr th {\n",
       "        vertical-align: top;\n",
       "    }\n",
       "\n",
       "    .dataframe thead tr th {\n",
       "        text-align: left;\n",
       "    }\n",
       "\n",
       "    .dataframe thead tr:last-of-type th {\n",
       "        text-align: right;\n",
       "    }\n",
       "</style>\n",
       "<table border=\"1\" class=\"dataframe\">\n",
       "  <thead>\n",
       "    <tr>\n",
       "      <th></th>\n",
       "      <th colspan=\"4\" halign=\"left\">freq_rank</th>\n",
       "    </tr>\n",
       "    <tr>\n",
       "      <th></th>\n",
       "      <th>min</th>\n",
       "      <th>max</th>\n",
       "      <th>mean</th>\n",
       "      <th>median</th>\n",
       "    </tr>\n",
       "    <tr>\n",
       "      <th>Before_nyt</th>\n",
       "      <th></th>\n",
       "      <th></th>\n",
       "      <th></th>\n",
       "      <th></th>\n",
       "    </tr>\n",
       "  </thead>\n",
       "  <tbody>\n",
       "    <tr>\n",
       "      <th>False</th>\n",
       "      <td>46.0</td>\n",
       "      <td>146260.0</td>\n",
       "      <td>21631.842105</td>\n",
       "      <td>13901.0</td>\n",
       "    </tr>\n",
       "    <tr>\n",
       "      <th>True</th>\n",
       "      <td>83.0</td>\n",
       "      <td>256340.0</td>\n",
       "      <td>27480.155556</td>\n",
       "      <td>13740.0</td>\n",
       "    </tr>\n",
       "  </tbody>\n",
       "</table>\n",
       "</div>"
      ],
      "text/plain": [
       "           freq_rank                                 \n",
       "                 min       max          mean   median\n",
       "Before_nyt                                           \n",
       "False           46.0  146260.0  21631.842105  13901.0\n",
       "True            83.0  256340.0  27480.155556  13740.0"
      ]
     },
     "execution_count": 17,
     "metadata": {},
     "output_type": "execute_result"
    }
   ],
   "source": [
    "wordle_words.groupby('Before_nyt').agg({'freq_rank':['min','max','mean','median']})"
   ]
  },
  {
   "cell_type": "markdown",
   "id": "97773ddd",
   "metadata": {},
   "source": [
    "It looks like the wordle word difficulty rank was was actually slightly more difficult before it was purchased. "
   ]
  },
  {
   "cell_type": "markdown",
   "id": "8ce6b8b0",
   "metadata": {},
   "source": [
    "## Hypothesis Testing"
   ]
  },
  {
   "cell_type": "markdown",
   "id": "2c06f414",
   "metadata": {},
   "source": [
    "Let's see if we can prove if wordle got easier or harder with any statistical significance. alpha = 0.05\n",
    "\n",
    "We are comparing the mean of the entire population, which is every wordle word so far, with the sample which in this case is the words since the NYT purchase date. Before we begin our hypothesis testing let's talk a look at the distribution. "
   ]
  },
  {
   "cell_type": "code",
   "execution_count": 18,
   "id": "de47b63f",
   "metadata": {},
   "outputs": [
    {
     "data": {
      "image/png": "[encoded data removed]",
      "text/plain": [
       "<Figure size 432x288 with 1 Axes>"
      ]
     },
     "metadata": {},
     "output_type": "display_data"
    }
   ],
   "source": [
    "plt.hist(wordle_words['freq_rank'], bins= 15)\n",
    "plt.title('Distribution of Frequency Rank')\n",
    "plt.xlabel('Frequency Rank')\n",
    "plt.ylabel('Frequency')\n",
    "plt.show()"
   ]
  },
  {
   "cell_type": "code",
   "execution_count": 19,
   "id": "a0f4d98b",
   "metadata": {},
   "outputs": [
    {
     "data": {
      "text/plain": [
       "skew         2.867654\n",
       "kurtosis    11.907886\n",
       "Name: freq_rank, dtype: float64"
      ]
     },
     "execution_count": 19,
     "metadata": {},
     "output_type": "execute_result"
    }
   ],
   "source": [
    "wordle_words['freq_rank'].agg(['skew', 'kurtosis']).transpose()"
   ]
  },
  {
   "cell_type": "markdown",
   "id": "4f1f5c58",
   "metadata": {},
   "source": [
    "**Observation on Frequency Distribution:** \n",
    "The distribution of frequency rank appears to be highly skewed (Skew > 1). To use the central limit theorem, one of the assumptions is that data is normally distributed. However, it can work on data of many different distributions if the n > 30. However, here I will normalize the data first by preforming a logarithmic transformation. \n"
   ]
  },
  {
   "cell_type": "code",
   "execution_count": 20,
   "id": "084d1419",
   "metadata": {},
   "outputs": [],
   "source": [
    "wordle_words['freq_rank_log'] = np.log(wordle_words['freq_rank'])"
   ]
  },
  {
   "cell_type": "code",
   "execution_count": 21,
   "id": "a31faf2f",
   "metadata": {},
   "outputs": [
    {
     "data": {
      "text/html": [
       "<div>\n",
       "<style scoped>\n",
       "    .dataframe tbody tr th:only-of-type {\n",
       "        vertical-align: middle;\n",
       "    }\n",
       "\n",
       "    .dataframe tbody tr th {\n",
       "        vertical-align: top;\n",
       "    }\n",
       "\n",
       "    .dataframe thead th {\n",
       "        text-align: right;\n",
       "    }\n",
       "</style>\n",
       "<table border=\"1\" class=\"dataframe\">\n",
       "  <thead>\n",
       "    <tr style=\"text-align: right;\">\n",
       "      <th></th>\n",
       "      <th>Date</th>\n",
       "      <th>Word</th>\n",
       "      <th>Before_nyt</th>\n",
       "      <th>word</th>\n",
       "      <th>count</th>\n",
       "      <th>freq_rank</th>\n",
       "      <th>freq_rank_log</th>\n",
       "    </tr>\n",
       "  </thead>\n",
       "  <tbody>\n",
       "    <tr>\n",
       "      <th>0</th>\n",
       "      <td>2021-06-19</td>\n",
       "      <td>cigar</td>\n",
       "      <td>True</td>\n",
       "      <td>cigar</td>\n",
       "      <td>3993843</td>\n",
       "      <td>11600.0</td>\n",
       "      <td>9.358760</td>\n",
       "    </tr>\n",
       "    <tr>\n",
       "      <th>1</th>\n",
       "      <td>2021-06-20</td>\n",
       "      <td>rebut</td>\n",
       "      <td>True</td>\n",
       "      <td>rebut</td>\n",
       "      <td>235254</td>\n",
       "      <td>61142.0</td>\n",
       "      <td>11.020954</td>\n",
       "    </tr>\n",
       "    <tr>\n",
       "      <th>2</th>\n",
       "      <td>2021-06-21</td>\n",
       "      <td>sissy</td>\n",
       "      <td>True</td>\n",
       "      <td>sissy</td>\n",
       "      <td>1410911</td>\n",
       "      <td>21513.0</td>\n",
       "      <td>9.976413</td>\n",
       "    </tr>\n",
       "    <tr>\n",
       "      <th>3</th>\n",
       "      <td>2021-06-22</td>\n",
       "      <td>humph</td>\n",
       "      <td>True</td>\n",
       "      <td>humph</td>\n",
       "      <td>60767</td>\n",
       "      <td>132781.0</td>\n",
       "      <td>11.796456</td>\n",
       "    </tr>\n",
       "    <tr>\n",
       "      <th>4</th>\n",
       "      <td>2021-06-23</td>\n",
       "      <td>awake</td>\n",
       "      <td>True</td>\n",
       "      <td>awake</td>\n",
       "      <td>3230337</td>\n",
       "      <td>13247.0</td>\n",
       "      <td>9.491526</td>\n",
       "    </tr>\n",
       "  </tbody>\n",
       "</table>\n",
       "</div>"
      ],
      "text/plain": [
       "        Date   Word  Before_nyt   word    count  freq_rank  freq_rank_log\n",
       "0 2021-06-19  cigar        True  cigar  3993843    11600.0       9.358760\n",
       "1 2021-06-20  rebut        True  rebut   235254    61142.0      11.020954\n",
       "2 2021-06-21  sissy        True  sissy  1410911    21513.0       9.976413\n",
       "3 2021-06-22  humph        True  humph    60767   132781.0      11.796456\n",
       "4 2021-06-23  awake        True  awake  3230337    13247.0       9.491526"
      ]
     },
     "execution_count": 21,
     "metadata": {},
     "output_type": "execute_result"
    }
   ],
   "source": [
    "wordle_words.head()"
   ]
  },
  {
   "cell_type": "code",
   "execution_count": 22,
   "id": "a3519a36",
   "metadata": {},
   "outputs": [
    {
     "data": {
      "image/png": "[encoded data removed]",
      "text/plain": [
       "<Figure size 432x288 with 1 Axes>"
      ]
     },
     "metadata": {},
     "output_type": "display_data"
    }
   ],
   "source": [
    "plt.hist(wordle_words['freq_rank_log'], bins= 15)\n",
    "plt.title('Log Distribution of Frequency Rank')\n",
    "plt.xlabel('Log Frequency Rank')\n",
    "plt.ylabel('Frequency')\n",
    "plt.show()"
   ]
  },
  {
   "cell_type": "markdown",
   "id": "cdfd0a64",
   "metadata": {},
   "source": [
    "Let us proceed with gathering our population mean and standard deviation as well as our sample mean to compute our test statistic, now using the freq_rank_log column\n",
    "\n",
    "**Population Mean and Standard Deviation for freq_rank_log**\n",
    "\n",
    "**Population mean (mu) is 9.265626**\n",
    "\n",
    "**Population standard deviation (sigma) is 1.603006**"
   ]
  },
  {
   "cell_type": "code",
   "execution_count": 23,
   "id": "832b0d75",
   "metadata": {},
   "outputs": [
    {
     "data": {
      "text/plain": [
       "count    358.000000\n",
       "mean       9.265626\n",
       "std        1.603006\n",
       "min        3.828641\n",
       "25%        8.458489\n",
       "50%        9.536034\n",
       "75%       10.438452\n",
       "max       12.454260\n",
       "Name: freq_rank_log, dtype: float64"
      ]
     },
     "execution_count": 23,
     "metadata": {},
     "output_type": "execute_result"
    }
   ],
   "source": [
    "wordle_words['freq_rank_log'].describe().T"
   ]
  },
  {
   "cell_type": "markdown",
   "id": "bc4e2c09",
   "metadata": {},
   "source": [
    "**Sample Mean for freq_rank_log, our sample is all words after NYT purchase**\n",
    "\n",
    "**Sample mean is 9.158353**"
   ]
  },
  {
   "cell_type": "code",
   "execution_count": 24,
   "id": "6e5c47a3",
   "metadata": {},
   "outputs": [
    {
     "data": {
      "text/plain": [
       "count    133.000000\n",
       "mean       9.158353\n",
       "std        1.629852\n",
       "min        3.828641\n",
       "25%        8.387312\n",
       "50%        9.539716\n",
       "75%       10.386068\n",
       "max       11.893141\n",
       "Name: freq_rank_log, dtype: float64"
      ]
     },
     "execution_count": 24,
     "metadata": {},
     "output_type": "execute_result"
    }
   ],
   "source": [
    "wordle_words['freq_rank_log'][wordle_words['Before_nyt'] == False].describe().T"
   ]
  },
  {
   "cell_type": "markdown",
   "id": "4ef19534",
   "metadata": {},
   "source": [
    "**Preforming a z-test:** \n",
    "\n",
    "The mean (mu) log frequency rank for the population is 9.262212\n",
    "the standard deviation (sigma) of log frequency ranks for the population is 1.640096\n",
    "the sample mean is 9.158353\n",
    "the sample size is 133. \n",
    "\n",
    "𝐻0 :  𝜇  = 9.265626\n",
    "\n",
    "𝐻𝑎 :  𝜇   ≠  9.265626\n",
    "\n",
    " 𝛼 = 0.05"
   ]
  },
  {
   "cell_type": "code",
   "execution_count": 25,
   "id": "fb883ca0",
   "metadata": {},
   "outputs": [],
   "source": [
    "import scipy.stats as stats\n",
    "\n",
    "sample_mean = 9.158353\n",
    "n= 133\n",
    "mu = 9.265626\n",
    "sigma = 1.640096"
   ]
  },
  {
   "cell_type": "code",
   "execution_count": 26,
   "id": "4fb0e235",
   "metadata": {},
   "outputs": [
    {
     "data": {
      "text/plain": [
       "-0.7543049841095352"
      ]
     },
     "execution_count": 26,
     "metadata": {},
     "output_type": "execute_result"
    }
   ],
   "source": [
    "test_stat =  (sample_mean - mu)/(sigma/np.sqrt(n)) \n",
    "test_stat"
   ]
  },
  {
   "cell_type": "code",
   "execution_count": 27,
   "id": "dcc48cfb",
   "metadata": {},
   "outputs": [
    {
     "name": "stdout",
     "output_type": "stream",
     "text": [
      "0.4506661102310978\n"
     ]
    }
   ],
   "source": [
    "p_value1 = stats.norm.cdf(test_stat)\n",
    "\n",
    "p_value_ztest = p_value1*2\n",
    "\n",
    "print(p_value_ztest)"
   ]
  },
  {
   "cell_type": "markdown",
   "id": "5b111e67",
   "metadata": {},
   "source": [
    "## Conclusion "
   ]
  },
  {
   "cell_type": "markdown",
   "id": "e160da56",
   "metadata": {},
   "source": [
    "p value = 0.45 Level of significance: 0.05\n",
    "\n",
    "We have no evidence to reject the null hypothesis since p-value is greater than the Level of Significance. So we can not say that Wordle has gotten easier or harder (since this was a two-sided test)."
   ]
  },
  {
   "cell_type": "markdown",
   "id": "fc1c5345",
   "metadata": {},
   "source": [
    "I'm going to take this table to Tableau to take a closer look and beautify the figure."
   ]
  },
  {
   "cell_type": "code",
   "execution_count": 28,
   "id": "12e241d0",
   "metadata": {},
   "outputs": [],
   "source": [
    "wordle_words.to_csv(r'wordle_csv_merge.csv')"
   ]
  }
 ],
 "metadata": {
  "kernelspec": {
   "display_name": "Python 3 (ipykernel)",
   "language": "python",
   "name": "python3"
  },
  "language_info": {
   "codemirror_mode": {
    "name": "ipython",
    "version": 3
   },
   "file_extension": ".py",
   "mimetype": "text/x-python",
   "name": "python",
   "nbconvert_exporter": "python",
   "pygments_lexer": "ipython3",
   "version": "3.9.7"
  }
 },
 "nbformat": 4,
 "nbformat_minor": 5
}
