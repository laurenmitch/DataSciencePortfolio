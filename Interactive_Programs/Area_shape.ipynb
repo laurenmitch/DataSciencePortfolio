{
 "cells": [
  {
   "cell_type": "markdown",
   "id": "7acd3eb9",
   "metadata": {},
   "source": [
    "The goal of this project was to create a interactive program so that the user could find the area of a shape without calculating. This project displays some foundational skills in python. \n"
   ]
  },
  {
   "cell_type": "code",
   "execution_count": 1,
   "id": "79873eeb",
   "metadata": {},
   "outputs": [
    {
     "name": "stdout",
     "output_type": "stream",
     "text": [
      "Which shape would you like to calculate the area for? Please enter the option number-\n",
      " 1 = Square\n",
      " 2 = Rectange\n",
      " 3 = Triangle\n",
      " 4 = Circle\n",
      " 5 = End\n",
      "4\n",
      "Please enter the length of the radius: _5\n",
      "The area of the circle is 78.5\n",
      "Which shape would you like to calculate the area for? Please enter the option number-\n",
      " 1 = Square\n",
      " 2 = Rectange\n",
      " 3 = Triangle\n",
      " 4 = Circle\n",
      " 5 = End\n",
      "5\n",
      "Thank you\n"
     ]
    }
   ],
   "source": [
    "def main():\n",
    "    number = 0\n",
    "    selection = 0\n",
    "    while selection != '4':\n",
    "        print ('Which shape would you like to calculate the area for? Please enter the option number-')\n",
    "        print (' 1 = Square')\n",
    "        print (' 2 = Rectange')\n",
    "        print (' 3 = Triangle')\n",
    "        print (' 4 = Circle')\n",
    "        print (' 5 = End')\n",
    "        \n",
    "        selection = int(input())\n",
    "        \n",
    "        if selection == 1:\n",
    "            area_square(input)\n",
    "        elif selection == 2:\n",
    "            area_rectangle(input)\n",
    "        elif selection == 3:\n",
    "            area_triangle(input)\n",
    "        elif selection == 4:\n",
    "            area_circle(input)\n",
    "        elif selection == 5:\n",
    "            print ('Thank you')\n",
    "            break\n",
    "        else:\n",
    "            print ('Invalid input, please enter a number: _')\n",
    "\n",
    "#Area of a square\n",
    "\n",
    "def area_square(input):\n",
    "    side = int(input('Please enter the length of a side: _'))\n",
    "    squareoutput = side * side\n",
    "    return print('The area of the square is', squareoutput)\n",
    "\n",
    "#Area of a rectangle\n",
    "\n",
    "def area_rectangle(input):\n",
    "    side1 = int(input('Please enter the length of one side: _'))\n",
    "    side2 = int(input('Please enter the length of the other side: _'))\n",
    "    rectangleoutput = side1 * side2\n",
    "    return print('The area of the rectangle is', rectangleoutput)\n",
    "\n",
    "#Area of a triangle\n",
    "\n",
    "def area_triangle(input):\n",
    "    base = int(input('Please enter the length of the base: _'))\n",
    "    height = int(input('Please enter the length of the height: _'))\n",
    "    triangleoutput = base * height / 2\n",
    "    return print('The area of the triangle is', triangleoutput)\n",
    "\n",
    "#Area of a circle\n",
    "\n",
    "def area_circle(input):\n",
    "    radius = int(input('Please enter the length of the radius: _'))\n",
    "    circleoutput = (radius**2)*3.14\n",
    "    return print('The area of the circle is', circleoutput)\n",
    "\n",
    "main()"
   ]
  }
 ],
 "metadata": {
  "kernelspec": {
   "display_name": "Python 3 (ipykernel)",
   "language": "python",
   "name": "python3"
  },
  "language_info": {
   "codemirror_mode": {
    "name": "ipython",
    "version": 3
   },
   "file_extension": ".py",
   "mimetype": "text/x-python",
   "name": "python",
   "nbconvert_exporter": "python",
   "pygments_lexer": "ipython3",
   "version": "3.9.7"
  }
 },
 "nbformat": 4,
 "nbformat_minor": 5
}
